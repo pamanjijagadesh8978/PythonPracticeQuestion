{
 "cells": [
  {
   "cell_type": "markdown",
   "id": "1052343b",
   "metadata": {},
   "source": [
    "# Dictionary and Tuple Based Questions"
   ]
  },
  {
   "cell_type": "markdown",
   "id": "44900b44",
   "metadata": {},
   "source": [
    "# Count th occurance of a word in a sentence"
   ]
  },
  {
   "cell_type": "code",
   "execution_count": 1,
   "id": "d3f462ef",
   "metadata": {},
   "outputs": [],
   "source": [
    "Sentence = \"\"\"On the 26th of January 1950, we are going to enter into a life of contradictions. \n",
    "In politics we will have equality and in social and economic life we will have inequality. \n",
    "In politics we will be recognizing the principle of one man one vote and one vote one value. \n",
    "In our social and economic life, we shall, by reason of our social and economic structure, continue to deny the principle of one man one value.\n",
    "How long shall we continue to live this life of contradictions? How long shall we continue to deny equality in our social and economic life? \n",
    "If we continue to deny it for long, we will do so only by putting our political democracy in peril\"\"\""
   ]
  },
  {
   "cell_type": "code",
   "execution_count": 9,
   "id": "749d5378",
   "metadata": {},
   "outputs": [
    {
     "name": "stdout",
     "output_type": "stream",
     "text": [
      "word 'we' is repeated '9' times\n",
      "word 'of' is repeated '6' times\n",
      "word 'and' is repeated '6' times\n",
      "word 'one' is repeated '6' times\n",
      "word 'to' is repeated '5' times\n",
      "word 'will' is repeated '4' times\n",
      "word 'social' is repeated '4' times\n",
      "word 'economic' is repeated '4' times\n",
      "word 'our' is repeated '4' times\n",
      "word 'continue' is repeated '4' times\n",
      "word 'the' is repeated '3' times\n",
      "word 'life' is repeated '3' times\n",
      "word 'In' is repeated '3' times\n",
      "word 'in' is repeated '3' times\n",
      "word 'deny' is repeated '3' times\n",
      "word 'politics' is repeated '2' times\n",
      "word 'have' is repeated '2' times\n",
      "word 'equality' is repeated '2' times\n",
      "word 'principle' is repeated '2' times\n",
      "word 'man' is repeated '2' times\n",
      "word 'vote' is repeated '2' times\n",
      "word 'value.' is repeated '2' times\n",
      "word 'by' is repeated '2' times\n",
      "word 'How' is repeated '2' times\n",
      "word 'long' is repeated '2' times\n",
      "word 'shall' is repeated '2' times\n",
      "word 'On' is repeated '1' times\n",
      "word '26th' is repeated '1' times\n",
      "word 'January' is repeated '1' times\n",
      "word '1950,' is repeated '1' times\n",
      "word 'are' is repeated '1' times\n",
      "word 'going' is repeated '1' times\n",
      "word 'enter' is repeated '1' times\n",
      "word 'into' is repeated '1' times\n",
      "word 'a' is repeated '1' times\n",
      "word 'contradictions.' is repeated '1' times\n",
      "word 'inequality.' is repeated '1' times\n",
      "word 'be' is repeated '1' times\n",
      "word 'recognizing' is repeated '1' times\n",
      "word 'life,' is repeated '1' times\n",
      "word 'shall,' is repeated '1' times\n",
      "word 'reason' is repeated '1' times\n",
      "word 'structure,' is repeated '1' times\n",
      "word 'live' is repeated '1' times\n",
      "word 'this' is repeated '1' times\n",
      "word 'contradictions?' is repeated '1' times\n",
      "word 'life?' is repeated '1' times\n",
      "word 'If' is repeated '1' times\n",
      "word 'it' is repeated '1' times\n",
      "word 'for' is repeated '1' times\n",
      "word 'long,' is repeated '1' times\n",
      "word 'do' is repeated '1' times\n",
      "word 'so' is repeated '1' times\n",
      "word 'only' is repeated '1' times\n",
      "word 'putting' is repeated '1' times\n",
      "word 'political' is repeated '1' times\n",
      "word 'democracy' is repeated '1' times\n",
      "word 'peril' is repeated '1' times\n"
     ]
    }
   ],
   "source": [
    "lst_sen = Sentence.split()\n",
    "uniq = {}\n",
    "for i in lst_sen:\n",
    "    if i not in uniq:\n",
    "        uniq[i] = 1\n",
    "    else:\n",
    "        uniq[i] += 1\n",
    "uniq = dict(sorted(uniq.items(), key=lambda item: item[1], reverse=True))\n",
    "for key, Value in uniq.items():\n",
    "    print(f\"word '{key}' is repeated '{Value}' times\")\n"
   ]
  },
  {
   "cell_type": "markdown",
   "id": "fd3ff266",
   "metadata": {},
   "source": [
    "## Sort dictionaries by its values"
   ]
  },
  {
   "cell_type": "code",
   "execution_count": 14,
   "id": "eca62206",
   "metadata": {},
   "outputs": [
    {
     "data": {
      "text/plain": [
       "{'we': 9,\n",
       " 'of': 6,\n",
       " 'and': 6,\n",
       " 'one': 6,\n",
       " 'to': 5,\n",
       " 'will': 4,\n",
       " 'social': 4,\n",
       " 'economic': 4,\n",
       " 'our': 4,\n",
       " 'continue': 4,\n",
       " 'the': 3,\n",
       " 'life': 3,\n",
       " 'In': 3,\n",
       " 'in': 3,\n",
       " 'deny': 3,\n",
       " 'politics': 2,\n",
       " 'have': 2,\n",
       " 'equality': 2,\n",
       " 'principle': 2,\n",
       " 'man': 2,\n",
       " 'vote': 2,\n",
       " 'value.': 2,\n",
       " 'by': 2,\n",
       " 'How': 2,\n",
       " 'long': 2,\n",
       " 'shall': 2,\n",
       " 'On': 1,\n",
       " '26th': 1,\n",
       " 'January': 1,\n",
       " '1950,': 1,\n",
       " 'are': 1,\n",
       " 'going': 1,\n",
       " 'enter': 1,\n",
       " 'into': 1,\n",
       " 'a': 1,\n",
       " 'contradictions.': 1,\n",
       " 'inequality.': 1,\n",
       " 'be': 1,\n",
       " 'recognizing': 1,\n",
       " 'life,': 1,\n",
       " 'shall,': 1,\n",
       " 'reason': 1,\n",
       " 'structure,': 1,\n",
       " 'live': 1,\n",
       " 'this': 1,\n",
       " 'contradictions?': 1,\n",
       " 'life?': 1,\n",
       " 'If': 1,\n",
       " 'it': 1,\n",
       " 'for': 1,\n",
       " 'long,': 1,\n",
       " 'do': 1,\n",
       " 'so': 1,\n",
       " 'only': 1,\n",
       " 'putting': 1,\n",
       " 'political': 1,\n",
       " 'democracy': 1,\n",
       " 'peril': 1}"
      ]
     },
     "execution_count": 14,
     "metadata": {},
     "output_type": "execute_result"
    }
   ],
   "source": [
    "dict(sorted(uniq.items(), key=lambda item: item[1], reverse=True))"
   ]
  },
  {
   "cell_type": "markdown",
   "id": "c9d3b1c6",
   "metadata": {},
   "source": [
    "## Find the most frequent element in the list"
   ]
  },
  {
   "cell_type": "code",
   "execution_count": 25,
   "id": "1e87f175",
   "metadata": {},
   "outputs": [
    {
     "name": "stdout",
     "output_type": "stream",
     "text": [
      "In the given list 4 is the most frequent number which has frequency of 4\n"
     ]
    }
   ],
   "source": [
    "lst = [1,1,1,2,2,3,3,3,4,4,4,4]\n",
    "dicto = {}\n",
    "for i in lst:\n",
    "    if i not in dicto:\n",
    "        dicto[i] = 1\n",
    "    else:\n",
    "        dicto[i] += 1\n",
    "\n",
    "dicto = dict(sorted(dicto.items(), key=lambda item: item[1], reverse=True))\n",
    "key_lst = list(dicto.keys())\n",
    "values_lst = list(dicto.values())\n",
    "print(f\"In the given list {key_lst[0]} is the most frequent number which has frequency of {values_lst[0]}\")"
   ]
  },
  {
   "cell_type": "markdown",
   "id": "cfa42229",
   "metadata": {},
   "source": [
    "## Convert a list of Tuples into Dictionary"
   ]
  },
  {
   "cell_type": "code",
   "execution_count": 26,
   "id": "c7f99ac7",
   "metadata": {},
   "outputs": [
    {
     "data": {
      "text/plain": [
       "{1: 2, 2: 3, 4: 2}"
      ]
     },
     "execution_count": 26,
     "metadata": {},
     "output_type": "execute_result"
    }
   ],
   "source": [
    "lst = [(1, 2), (2, 3), (4, 2)]\n",
    "dict(lst)"
   ]
  },
  {
   "cell_type": "markdown",
   "id": "c61de9fb",
   "metadata": {},
   "source": [
    "## Find the common keys between two dictionaries"
   ]
  },
  {
   "cell_type": "code",
   "execution_count": 34,
   "id": "8151ad00",
   "metadata": {},
   "outputs": [
    {
     "name": "stdout",
     "output_type": "stream",
     "text": [
      "Jagadesh\n"
     ]
    }
   ],
   "source": [
    "dicto1 = {\"Pamanji\":4, \n",
    "          \"Jagadesh\":5,\n",
    "          \"Shyam\":6,\n",
    "          \"Pandey\":7}\n",
    "dicto2 = {\"Jikas\":7,\n",
    "          \"Kumar\":8,\n",
    "          \"Jagadesh\":9,\n",
    "          \"Nandha\":3}\n",
    "lst1 = dicto1.keys()\n",
    "lst2 = dicto2.keys()\n",
    "#print(lst1, lst2)\n",
    "for i in lst2:\n",
    "    if i in lst1:\n",
    "        print(i)"
   ]
  },
  {
   "cell_type": "markdown",
   "id": "dfdba8ff",
   "metadata": {},
   "source": [
    "## Find the key with the maximum value in the ditionary"
   ]
  },
  {
   "cell_type": "code",
   "execution_count": 35,
   "id": "8d88af30",
   "metadata": {},
   "outputs": [
    {
     "data": {
      "text/plain": [
       "{'Pamanji': 4, 'Jagadesh': 5, 'Shyam': 6, 'Pandey': 7}"
      ]
     },
     "execution_count": 35,
     "metadata": {},
     "output_type": "execute_result"
    }
   ],
   "source": [
    "dicto1 = {\"Pamanji\":4, \n",
    "          \"Jagadesh\":5,\n",
    "          \"Shyam\":6,\n",
    "          \"Pandey\":7}\n",
    "dicto1"
   ]
  },
  {
   "cell_type": "code",
   "execution_count": 49,
   "id": "67394f90",
   "metadata": {},
   "outputs": [
    {
     "data": {
      "text/plain": [
       "'Pandey'"
      ]
     },
     "execution_count": 49,
     "metadata": {},
     "output_type": "execute_result"
    }
   ],
   "source": [
    "dicto1 = dict(sorted(dicto1.items(), key=lambda item: item[1], reverse=True))\n",
    "lst1 = list(dicto1.keys())\n",
    "lst1[0]"
   ]
  },
  {
   "cell_type": "markdown",
   "id": "3a77c818",
   "metadata": {},
   "source": [
    "## Find the common keys between two dictionaries"
   ]
  },
  {
   "cell_type": "markdown",
   "id": "17ac7aac",
   "metadata": {},
   "source": []
  }
 ],
 "metadata": {
  "kernelspec": {
   "display_name": "venv",
   "language": "python",
   "name": "python3"
  },
  "language_info": {
   "codemirror_mode": {
    "name": "ipython",
    "version": 3
   },
   "file_extension": ".py",
   "mimetype": "text/x-python",
   "name": "python",
   "nbconvert_exporter": "python",
   "pygments_lexer": "ipython3",
   "version": "3.10.11"
  }
 },
 "nbformat": 4,
 "nbformat_minor": 5
}
