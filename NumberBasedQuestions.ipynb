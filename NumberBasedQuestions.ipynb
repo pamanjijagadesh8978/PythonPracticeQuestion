{
 "cells": [
  {
   "cell_type": "markdown",
   "id": "50ce121b",
   "metadata": {},
   "source": [
    "# Number Based Questions"
   ]
  },
  {
   "cell_type": "markdown",
   "id": "af8c7591",
   "metadata": {},
   "source": [
    "## Find if number is prime"
   ]
  },
  {
   "cell_type": "code",
   "execution_count": 1,
   "id": "4b81ca41",
   "metadata": {},
   "outputs": [
    {
     "name": "stdout",
     "output_type": "stream",
     "text": [
      "The given number 37 is a prime number\n"
     ]
    }
   ],
   "source": [
    "num = 37\n",
    "def is_prime(n):\n",
    "    if n <= 1:\n",
    "        return False\n",
    "    elif n == 2:\n",
    "        return False\n",
    "    elif n % 2 == 0:\n",
    "        return False\n",
    "    for i in range(3, int(n**(1/2))+1, 2):\n",
    "        if n % i == 0:\n",
    "            return False\n",
    "    return True\n",
    "\n",
    "is_prime = is_prime(num)\n",
    "if is_prime:\n",
    "    print(f\"The given number {num} is a prime number\")\n",
    "else:\n",
    "    print(f\"The given number {num} is not a prime number\")"
   ]
  },
  {
   "cell_type": "markdown",
   "id": "d976ac83",
   "metadata": {},
   "source": [
    "## Find the fibonacci numbers"
   ]
  },
  {
   "cell_type": "code",
   "execution_count": 2,
   "id": "bf301e65",
   "metadata": {},
   "outputs": [
    {
     "data": {
      "text/plain": [
       "(0, 1)"
      ]
     },
     "execution_count": 2,
     "metadata": {},
     "output_type": "execute_result"
    }
   ],
   "source": [
    "def fibb(n):\n",
    "    if n == 0:\n",
    "        return 0\n",
    "    elif n == 1:\n",
    "        return 0, 1\n",
    "    else:\n",
    "        a = 0\n",
    "        b = 1\n",
    "        print(a, b, end=\" \")\n",
    "        for i in range(2, n):\n",
    "            c = a + b\n",
    "            a, b = b, c\n",
    "            print(c, end=\" \")\n",
    "\n",
    "fibb(1)"
   ]
  },
  {
   "cell_type": "markdown",
   "id": "0c34f510",
   "metadata": {},
   "source": [
    "## Find the given number is Amstrong or not"
   ]
  },
  {
   "cell_type": "code",
   "execution_count": 3,
   "id": "7271e716",
   "metadata": {},
   "outputs": [
    {
     "name": "stdout",
     "output_type": "stream",
     "text": [
      "Given number 153 is a Amstrong number\n"
     ]
    }
   ],
   "source": [
    "def amstrong(n):\n",
    "    num = str(n)\n",
    "    sum = 0\n",
    "    for i in num:\n",
    "        sum = sum + int(i)**3\n",
    "    return sum\n",
    "num = 153\n",
    "\n",
    "if amstrong(num) == num:\n",
    "    print(f\"Given number {num} is a Amstrong number\")\n",
    "else:\n",
    "    print(f\"Given number {num} is not a Amstrong number\")"
   ]
  },
  {
   "cell_type": "markdown",
   "id": "9aa9672f",
   "metadata": {},
   "source": [
    "## Find factorial of a number is Recurssion"
   ]
  },
  {
   "cell_type": "code",
   "execution_count": 4,
   "id": "7efa856b",
   "metadata": {},
   "outputs": [
    {
     "name": "stdout",
     "output_type": "stream",
     "text": [
      "24\n"
     ]
    }
   ],
   "source": [
    "def factorial(n):\n",
    "    if n == 0 or n == 1:\n",
    "        return 1\n",
    "    else:\n",
    "        return n * factorial(n - 1)\n",
    "\n",
    "# Test\n",
    "print(factorial(4))  # Output: 24"
   ]
  },
  {
   "cell_type": "markdown",
   "id": "70486fc3",
   "metadata": {},
   "source": [
    "## Reverse a given string with our string conversion"
   ]
  },
  {
   "cell_type": "code",
   "execution_count": 5,
   "id": "bca059c2",
   "metadata": {},
   "outputs": [
    {
     "name": "stdout",
     "output_type": "stream",
     "text": [
      "4321\n"
     ]
    }
   ],
   "source": [
    "num = 1234\n",
    "def rever_num(n):\n",
    "    rev = 0\n",
    "    is_negative = n < 0\n",
    "    n = abs(n)\n",
    "    while n > 0:\n",
    "        digit = n % 10\n",
    "        rev = rev * 10 + digit\n",
    "        n //= 10\n",
    "    return -rev if is_negative else rev\n",
    "num = 1234\n",
    "print(rever_num(num))"
   ]
  },
  {
   "cell_type": "markdown",
   "id": "dca98a4f",
   "metadata": {},
   "source": [
    "## Find the sum of all digits of a number unitll a single digit is obtained"
   ]
  },
  {
   "cell_type": "code",
   "execution_count": 24,
   "id": "7b4d517d",
   "metadata": {},
   "outputs": [
    {
     "name": "stdout",
     "output_type": "stream",
     "text": [
      "9\n"
     ]
    }
   ],
   "source": [
    "num = 123456789\n",
    "while len(str(num)) > 1:\n",
    "    total = 0\n",
    "    for i in str(num):\n",
    "        total += int(i)\n",
    "    num = int(total)\n",
    "print(total)"
   ]
  },
  {
   "cell_type": "markdown",
   "id": "e5d69c71",
   "metadata": {},
   "source": [
    "## Find the greatest common divisor of two numbers"
   ]
  },
  {
   "cell_type": "code",
   "execution_count": 25,
   "id": "2deb2362",
   "metadata": {},
   "outputs": [
    {
     "name": "stdout",
     "output_type": "stream",
     "text": [
      "10\n"
     ]
    }
   ],
   "source": [
    "def gcd(a, b):\n",
    "    if b == 0:\n",
    "        return a\n",
    "    return gcd(b, a%b)\n",
    "a = 10\n",
    "b = 20\n",
    "print(gcd(a, b))"
   ]
  },
  {
   "cell_type": "markdown",
   "id": "52ec2387",
   "metadata": {},
   "source": [
    "## Convert decimal number to binary without using a built in functions"
   ]
  },
  {
   "cell_type": "code",
   "execution_count": 26,
   "id": "8c03c3f5",
   "metadata": {},
   "outputs": [
    {
     "name": "stdout",
     "output_type": "stream",
     "text": [
      "1010\n"
     ]
    }
   ],
   "source": [
    "def decimal_to_binary(n):\n",
    "    if n == 0:\n",
    "        return \"\"\n",
    "    return decimal_to_binary(n//2)+str(n%2)\n",
    "print(decimal_to_binary(10))"
   ]
  },
  {
   "cell_type": "markdown",
   "id": "6a604a71",
   "metadata": {},
   "source": [
    "## Find the sum of first n prime numbers"
   ]
  },
  {
   "cell_type": "code",
   "execution_count": 29,
   "id": "22ce95c2",
   "metadata": {},
   "outputs": [
    {
     "name": "stdout",
     "output_type": "stream",
     "text": [
      "[2, 3, 4, 5, 6, 7, 8]\n",
      "35\n"
     ]
    }
   ],
   "source": [
    "def is_prime(n):\n",
    "    if n == 0 or n == 1:\n",
    "        return False\n",
    "    elif n == 2:\n",
    "        return True\n",
    "    for i in range(3, int(n**(1/2))+1):\n",
    "        if n % i == 0:\n",
    "            return False\n",
    "    return True\n",
    "num = 10\n",
    "total_sum = 0\n",
    "list_prime = []\n",
    "for i in range(num):\n",
    "    if is_prime(i):\n",
    "        total_sum += i\n",
    "        list_prime.append(i)\n",
    "\n",
    "print(list_prime)\n",
    "print(total_sum)"
   ]
  },
  {
   "cell_type": "code",
   "execution_count": null,
   "id": "aab52dd3",
   "metadata": {},
   "outputs": [],
   "source": []
  }
 ],
 "metadata": {
  "kernelspec": {
   "display_name": "venv",
   "language": "python",
   "name": "python3"
  },
  "language_info": {
   "codemirror_mode": {
    "name": "ipython",
    "version": 3
   },
   "file_extension": ".py",
   "mimetype": "text/x-python",
   "name": "python",
   "nbconvert_exporter": "python",
   "pygments_lexer": "ipython3",
   "version": "3.10.11"
  }
 },
 "nbformat": 4,
 "nbformat_minor": 5
}
