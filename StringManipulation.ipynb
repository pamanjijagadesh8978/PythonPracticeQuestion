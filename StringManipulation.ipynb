{
 "cells": [
  {
   "cell_type": "markdown",
   "id": "7262ed21",
   "metadata": {},
   "source": [
    "# Check if a string is Palindrome or not"
   ]
  },
  {
   "cell_type": "code",
   "execution_count": 3,
   "id": "7f2f30f5",
   "metadata": {},
   "outputs": [
    {
     "name": "stdout",
     "output_type": "stream",
     "text": [
      "Given String Pamanji ijnamaP is a palindrome\n"
     ]
    }
   ],
   "source": [
    "string = \"Pamanji ijnamaP\"\n",
    "if string == string[::-1]:\n",
    "    print(f\"Given String {string} is a palindrome\")\n",
    "else:\n",
    "    print(f\"Given string {string} is not a palindrome\")"
   ]
  },
  {
   "cell_type": "markdown",
   "id": "c6e99de9",
   "metadata": {},
   "source": [
    "# Reverse a string without using built in functions"
   ]
  },
  {
   "cell_type": "code",
   "execution_count": 4,
   "id": "a96dd48a",
   "metadata": {},
   "outputs": [
    {
     "name": "stdout",
     "output_type": "stream",
     "text": [
      "hsedagaJ ijnamaP"
     ]
    }
   ],
   "source": [
    "string = \"Pamanji Jagadesh\"\n",
    "for i in range(1, len(string)+1):\n",
    "    print(string[-i], end=\"\")"
   ]
  },
  {
   "cell_type": "markdown",
   "id": "52b6e2e4",
   "metadata": {},
   "source": [
    "# Count vowels and consonants in a string"
   ]
  },
  {
   "cell_type": "code",
   "execution_count": 7,
   "id": "85bbf36f",
   "metadata": {},
   "outputs": [
    {
     "name": "stdout",
     "output_type": "stream",
     "text": [
      "Number of consonants are 10 and number of vowels are 6\n"
     ]
    }
   ],
   "source": [
    "string = \"Pamanji Jagadesh\"\n",
    "vowels = \"aeiouAEIOU\"\n",
    "vow_strings = \"\"\n",
    "con_strings = \"\"\n",
    "for i in string:\n",
    "    if i not in vowels:\n",
    "        con_strings += i\n",
    "    else:\n",
    "        vow_strings += i\n",
    "print(f\"Number of consonants are {len(con_strings)} and number of vowels are {len(vow_strings)}\")"
   ]
  },
  {
   "cell_type": "markdown",
   "id": "9a3cc61f",
   "metadata": {},
   "source": [
    "# Find the frequency of each character in a string"
   ]
  },
  {
   "cell_type": "code",
   "execution_count": 1,
   "id": "6f35a8a3",
   "metadata": {},
   "outputs": [
    {
     "name": "stdout",
     "output_type": "stream",
     "text": [
      "The frequency of letter P is 1\n",
      "The frequency of letter A is 4\n",
      "The frequency of letter M is 1\n",
      "The frequency of letter N is 1\n",
      "The frequency of letter J is 2\n",
      "The frequency of letter I is 1\n",
      "The frequency of letter G is 1\n",
      "The frequency of letter D is 1\n",
      "The frequency of letter E is 1\n",
      "The frequency of letter S is 1\n",
      "The frequency of letter H is 1\n"
     ]
    }
   ],
   "source": [
    "string = \"Pamanji Jagadesh\"\n",
    "string = string.upper()\n",
    "processed = \"\"\n",
    "for i in string:\n",
    "    if i != \" \" and i not in processed:\n",
    "        count = 0\n",
    "        for j in string:\n",
    "            if i == j:\n",
    "                count += 1\n",
    "        print(f\"The frequency of letter {i} is {count}\")\n",
    "        processed += i"
   ]
  },
  {
   "cell_type": "markdown",
   "id": "9fe252c5",
   "metadata": {},
   "source": [
    "# Remove duplicate characters in the string"
   ]
  },
  {
   "cell_type": "code",
   "execution_count": 10,
   "id": "2f6dd5c5",
   "metadata": {},
   "outputs": [
    {
     "name": "stdout",
     "output_type": "stream",
     "text": [
      "Pmnji Jgdesh\n"
     ]
    }
   ],
   "source": [
    "string = \"Pamanji Jagadesh\"\n",
    "processed = \"\"\n",
    "for i in string:\n",
    "    if i != \" \" and i not in processed:\n",
    "        count = 0\n",
    "        for j in string:\n",
    "            if i == j:\n",
    "                count += 1\n",
    "        if count > 1:\n",
    "            string = string.replace(i, \"\")\n",
    "print(string)"
   ]
  },
  {
   "cell_type": "markdown",
   "id": "b1e415d2",
   "metadata": {},
   "source": [
    "# Find the largest word in a sentence"
   ]
  },
  {
   "cell_type": "code",
   "execution_count": 22,
   "id": "6d969953",
   "metadata": {},
   "outputs": [
    {
     "name": "stdout",
     "output_type": "stream",
     "text": [
      "The largest word is 'sentence' with length 8\n"
     ]
    }
   ],
   "source": [
    "sentence = \"Find the largest word in a sentence\"\n",
    "sentence += \" \"\n",
    "word = \"\"\n",
    "max_word = \"\"\n",
    "max_len = 0\n",
    "for char in sentence:\n",
    "    if char != \" \":\n",
    "        word += char\n",
    "    else:\n",
    "        if len(word) > max_len:\n",
    "            max_len = len(word)\n",
    "            max_word = word\n",
    "        word = \"\"\n",
    "print(f\"The largest word is '{max_word}' with length {max_len}\")"
   ]
  },
  {
   "cell_type": "markdown",
   "id": "b10586da",
   "metadata": {},
   "source": [
    "# Check if two strings are anagrams"
   ]
  },
  {
   "cell_type": "code",
   "execution_count": 30,
   "id": "a3a1f298",
   "metadata": {},
   "outputs": [
    {
     "name": "stdout",
     "output_type": "stream",
     "text": [
      "Given words 'silent' and 'listen' are annograms\n"
     ]
    }
   ],
   "source": [
    "string1 = \"silent\"\n",
    "string2 = \"listen\"\n",
    "if sorted(string1) == sorted(string2):\n",
    "    print(f\"Given words '{string1}' and '{string2}' are annograms\")\n",
    "else:\n",
    "    print(f\"Given words '{string1}' and '{string2}' are not annograms\")"
   ]
  },
  {
   "cell_type": "markdown",
   "id": "e312df78",
   "metadata": {},
   "source": [
    "# Convert a string into title case"
   ]
  },
  {
   "cell_type": "code",
   "execution_count": 35,
   "id": "6cdcdfb6",
   "metadata": {},
   "outputs": [
    {
     "data": {
      "text/plain": [
       "'Conevrt a string into title Case'"
      ]
     },
     "execution_count": 35,
     "metadata": {},
     "output_type": "execute_result"
    }
   ],
   "source": [
    "string = \"conevrt a string into title case\"\n",
    "string = string.replace(string[0], string[0].upper())\n",
    "string"
   ]
  }
 ],
 "metadata": {
  "kernelspec": {
   "display_name": "venv",
   "language": "python",
   "name": "python3"
  },
  "language_info": {
   "codemirror_mode": {
    "name": "ipython",
    "version": 3
   },
   "file_extension": ".py",
   "mimetype": "text/x-python",
   "name": "python",
   "nbconvert_exporter": "python",
   "pygments_lexer": "ipython3",
   "version": "3.10.11"
  }
 },
 "nbformat": 4,
 "nbformat_minor": 5
}
