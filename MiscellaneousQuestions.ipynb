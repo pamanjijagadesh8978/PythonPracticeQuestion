{
 "cells": [
  {
   "cell_type": "markdown",
   "id": "c3758dbe",
   "metadata": {},
   "source": [
    "## Miscelleous Questions"
   ]
  },
  {
   "cell_type": "markdown",
   "id": "34e878fc",
   "metadata": {},
   "source": [
    "### Implement simple calculator using functions"
   ]
  },
  {
   "cell_type": "code",
   "execution_count": 1,
   "id": "8aff5693",
   "metadata": {},
   "outputs": [
    {
     "name": "stdout",
     "output_type": "stream",
     "text": [
      "For the gieven numbers here are the math operations 'Addition'21,\n",
      "'Subtraction'-1,\n",
      "'Multiplication110,\n",
      "'Division' 0.9090909090909091\n"
     ]
    }
   ],
   "source": [
    "def Sum(a, b):\n",
    "    return a+b\n",
    "def sub(a, b):\n",
    "    return a-b\n",
    "def mul(a, b):\n",
    "    return a*b\n",
    "def div(a, b):\n",
    "    return a/b\n",
    "\n",
    "a = 10\n",
    "b = 11\n",
    "print(f\"For the gieven numbers here are the math operations 'Addition'{Sum(a,b)},\\n'Subtraction'{sub(a,b)},\\n'Multiplication{mul(a, b)},\\n'Division' {div(a, b)}\")"
   ]
  },
  {
   "cell_type": "markdown",
   "id": "c6ed9635",
   "metadata": {},
   "source": [
    "### Swap two variables with out third variable"
   ]
  },
  {
   "cell_type": "code",
   "execution_count": 2,
   "id": "8e487b1f",
   "metadata": {},
   "outputs": [
    {
     "name": "stdout",
     "output_type": "stream",
     "text": [
      "20 10\n"
     ]
    }
   ],
   "source": [
    "a = 10\n",
    "b = 20\n",
    "a, b = b, a\n",
    "print(a, b)"
   ]
  },
  {
   "cell_type": "markdown",
   "id": "d252ace7",
   "metadata": {},
   "source": [
    "### Implement the stack using list"
   ]
  },
  {
   "cell_type": "code",
   "execution_count": 3,
   "id": "050652ec",
   "metadata": {},
   "outputs": [
    {
     "name": "stdout",
     "output_type": "stream",
     "text": [
      "[10]\n",
      "[10, 20]\n",
      "[10, 20, 30]\n",
      "[10, 20, 30, 40]\n",
      "[10, 20, 30]\n",
      "[10, 20, 30, 10]\n",
      "[10, 20, 30]\n",
      "[10, 20]\n",
      "[10, 20]\n"
     ]
    }
   ],
   "source": [
    "stack = []\n",
    "def insert(a):\n",
    "    global stack\n",
    "    stack.append(a)\n",
    "    return stack\n",
    "\n",
    "def pop():\n",
    "    global stack\n",
    "    if is_empty():\n",
    "        print(\"Stack is empty\")\n",
    "    else:\n",
    "        stack.pop()\n",
    "    return stack\n",
    "\n",
    "def is_empty():\n",
    "    if len(stack) == 0:\n",
    "        return True\n",
    "    else:\n",
    "        return False\n",
    "\n",
    "print(insert(10))\n",
    "print(insert(20))\n",
    "print(insert(30))\n",
    "print(insert(40))\n",
    "print(pop())\n",
    "print(insert(10))\n",
    "print(pop())\n",
    "print(pop())\n",
    "print(stack)"
   ]
  },
  {
   "cell_type": "markdown",
   "id": "c619155a",
   "metadata": {},
   "source": [
    "### Implement queue using list"
   ]
  },
  {
   "cell_type": "code",
   "execution_count": 4,
   "id": "ef500b9d",
   "metadata": {},
   "outputs": [
    {
     "name": "stdout",
     "output_type": "stream",
     "text": [
      "[10]\n",
      "[10, 20]\n",
      "[10, 20, 30]\n",
      "[10, 20, 30, 40]\n",
      "[20, 30, 40]\n",
      "[20, 30, 40, 10]\n",
      "[30, 40, 10]\n",
      "[40, 10]\n",
      "[10, 20]\n"
     ]
    }
   ],
   "source": [
    "queue = []\n",
    "def is_empty():\n",
    "    if len(queue) == 0:\n",
    "        return True\n",
    "    else:\n",
    "        return False\n",
    "def insert(a):\n",
    "    global queue\n",
    "    queue.append(a)\n",
    "    return queue\n",
    "\n",
    "def remove():\n",
    "    global queue\n",
    "    del queue[0]\n",
    "    return queue\n",
    "\n",
    "print(insert(10))\n",
    "print(insert(20))\n",
    "print(insert(30))\n",
    "print(insert(40))\n",
    "print(remove())\n",
    "print(insert(10))\n",
    "print(remove())\n",
    "print(remove())\n",
    "print(stack)"
   ]
  },
  {
   "cell_type": "markdown",
   "id": "8f705516",
   "metadata": {},
   "source": [
    "### Check given number is perfect number"
   ]
  },
  {
   "cell_type": "markdown",
   "id": "2cb324c1",
   "metadata": {},
   "source": [
    "#### A number n is perfect if:\n",
    "sum of all positive divisors of n (excluding n itself)=n"
   ]
  },
  {
   "cell_type": "code",
   "execution_count": 6,
   "id": "a897f65a",
   "metadata": {},
   "outputs": [
    {
     "name": "stdout",
     "output_type": "stream",
     "text": [
      "Given number 6 is a perfect number\n"
     ]
    }
   ],
   "source": [
    "num = 6\n",
    "fact = []\n",
    "for i in range(1, num):\n",
    "    if num % i == 0:\n",
    "        fact.append(i)\n",
    "if sum(fact) == num:\n",
    "    print(f\"Given number {num} is a perfect number\")"
   ]
  },
  {
   "cell_type": "markdown",
   "id": "e5dc5a04",
   "metadata": {},
   "source": [
    "### Find the non repeating number in a string"
   ]
  },
  {
   "cell_type": "code",
   "execution_count": 12,
   "id": "e620d444",
   "metadata": {},
   "outputs": [
    {
     "name": "stdout",
     "output_type": "stream",
     "text": [
      "0 3\n",
      "1 4\n",
      "2 4\n",
      "3 4\n",
      "4 1\n",
      "The non repeating number is 4\n"
     ]
    }
   ],
   "source": [
    "string = \"0001111222233334\"\n",
    "dicto = {}\n",
    "for i in string:\n",
    "    if i not in dicto:\n",
    "        dicto[i] = 1\n",
    "    else:\n",
    "        dicto[i] += 1\n",
    "for key, value in dicto.items():\n",
    "    print(key, value)\n",
    "    if value == 1:\n",
    "        print(f\"The non repeating number is {key}\")"
   ]
  },
  {
   "cell_type": "markdown",
   "id": "710933e3",
   "metadata": {},
   "source": [
    "### Check for the longest common preprix among a list of strings"
   ]
  },
  {
   "cell_type": "code",
   "execution_count": 13,
   "id": "d1b32b23",
   "metadata": {},
   "outputs": [
    {
     "name": "stdout",
     "output_type": "stream",
     "text": [
      "The largest common prefix is Fl\n"
     ]
    }
   ],
   "source": [
    "strings = [\"Flower\", \"Flow\", \"Flight\"]\n",
    "def long_string(str):\n",
    "    if not str:\n",
    "        return \"\"\n",
    "    prefix = str[0]\n",
    "    for string in str[1:]:\n",
    "        while not string.startswith(prefix):\n",
    "            prefix = prefix[:-1]\n",
    "            if not prefix:\n",
    "                return \"\"\n",
    "    return prefix\n",
    "print(f\"The largest common prefix is {long_string(strings)}\")"
   ]
  },
  {
   "cell_type": "markdown",
   "id": "3cd0b59f",
   "metadata": {},
   "source": [
    "### Convert Roman Numbers into Integers"
   ]
  },
  {
   "cell_type": "code",
   "execution_count": 17,
   "id": "c109abeb",
   "metadata": {},
   "outputs": [
    {
     "name": "stdout",
     "output_type": "stream",
     "text": [
      "4\n",
      "9\n"
     ]
    }
   ],
   "source": [
    "def roman_to_int(s):\n",
    "    roman = {\n",
    "        \"I\":1,\n",
    "        \"V\":5,\n",
    "        \"X\":10,\n",
    "        \"L\":50,\n",
    "        \"C\":100,\n",
    "        \"D\":500,\n",
    "        \"M\":1000\n",
    "    }\n",
    "    total = 0\n",
    "    previous = 0\n",
    "    for i in reversed(s):\n",
    "        current = roman[i]\n",
    "        if current < previous:\n",
    "            total -= current\n",
    "        else:\n",
    "            total += current\n",
    "        previous = current\n",
    "    return total\n",
    "\n",
    "print(roman_to_int(\"IV\"))\n",
    "print(roman_to_int(\"IX\"))"
   ]
  },
  {
   "cell_type": "markdown",
   "id": "7e7f12f0",
   "metadata": {},
   "source": [
    "### Generate all permutations in the given string"
   ]
  },
  {
   "cell_type": "code",
   "execution_count": 24,
   "id": "6230ebc8",
   "metadata": {},
   "outputs": [
    {
     "name": "stdout",
     "output_type": "stream",
     "text": [
      "aagj\n",
      "aajg\n",
      "agaj\n",
      "agja\n",
      "ajag\n",
      "ajga\n",
      "gaaj\n",
      "gaja\n",
      "gjaa\n",
      "jaag\n",
      "jaga\n",
      "jgaa\n"
     ]
    }
   ],
   "source": [
    "from itertools import permutations\n",
    "\n",
    "string = \"jaga\"\n",
    "\n",
    "# Get all permutations of length 4\n",
    "perms = permutations(string, 4)\n",
    "\n",
    "# Use a set to remove duplicates\n",
    "unique_perms = set([''.join(p) for p in perms])\n",
    "\n",
    "for p in sorted(unique_perms):\n",
    "    print(p)\n"
   ]
  },
  {
   "cell_type": "markdown",
   "id": "5a996ab3",
   "metadata": {},
   "source": [
    "## Tower of Hanoi"
   ]
  },
  {
   "cell_type": "markdown",
   "id": "0d086057",
   "metadata": {},
   "source": [
    "- Move n-1 disks fro, A to B using C\n",
    "- Move a Disc from A to C\n",
    "- Move n-1 Discs from B to C using A"
   ]
  },
  {
   "cell_type": "code",
   "execution_count": null,
   "id": "0b0507f2",
   "metadata": {},
   "outputs": [],
   "source": [
    "stack = [4, 3, 2, 1]\n",
    "Tower_A = []\n",
    "Tower_B = []\n",
    "Tower_C = []\n",
    "Tower_A = stack\n",
    "def TOH(n, A, B, C):\n",
    "    "
   ]
  },
  {
   "cell_type": "code",
   "execution_count": 27,
   "id": "e3efda25",
   "metadata": {},
   "outputs": [
    {
     "name": "stdout",
     "output_type": "stream",
     "text": [
      "Move disk 1 from A to C\n",
      "Move disk 2 from A to B\n",
      "Move disk 1 from C to B\n",
      "Move disk 3 from A to C\n",
      "Move disk 1 from B to A\n",
      "Move disk 2 from B to C\n",
      "Move disk 1 from A to C\n"
     ]
    }
   ],
   "source": [
    "def tower_of_hanoi(n, source, destination, auxiliary):\n",
    "    if n == 1:\n",
    "        print(f\"Move disk 1 from {source} to {destination}\")\n",
    "        return\n",
    "    tower_of_hanoi(n-1, source, auxiliary, destination)\n",
    "    print(f\"Move disk {n} from {source} to {destination}\")\n",
    "    tower_of_hanoi(n-1, auxiliary, destination, source)\n",
    "\n",
    "# Example usage\n",
    "n = 3  # Number of disks\n",
    "tower_of_hanoi(n, 'A', 'C', 'B')\n"
   ]
  }
 ],
 "metadata": {
  "kernelspec": {
   "display_name": "venv",
   "language": "python",
   "name": "python3"
  },
  "language_info": {
   "codemirror_mode": {
    "name": "ipython",
    "version": 3
   },
   "file_extension": ".py",
   "mimetype": "text/x-python",
   "name": "python",
   "nbconvert_exporter": "python",
   "pygments_lexer": "ipython3",
   "version": "3.10.11"
  }
 },
 "nbformat": 4,
 "nbformat_minor": 5
}
