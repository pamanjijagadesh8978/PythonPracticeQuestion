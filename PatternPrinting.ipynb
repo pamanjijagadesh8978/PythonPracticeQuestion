{
 "cells": [
  {
   "cell_type": "code",
   "execution_count": 2,
   "id": "5451426a",
   "metadata": {},
   "outputs": [
    {
     "name": "stdout",
     "output_type": "stream",
     "text": [
      "     * \n",
      "    * * \n",
      "   * * * \n",
      "  * * * * \n",
      " * * * * * \n"
     ]
    }
   ],
   "source": [
    "n = 5\n",
    "for i in range(n):\n",
    "    for j in range(i, n):\n",
    "        print(\" \", end=\"\")\n",
    "    for j in range(i+1):\n",
    "        print(\"*\", end=\" \")\n",
    "    print()"
   ]
  },
  {
   "cell_type": "code",
   "execution_count": 14,
   "id": "c6a1f298",
   "metadata": {},
   "outputs": [
    {
     "name": "stdout",
     "output_type": "stream",
     "text": [
      "  * * * * * * * * * \n",
      "    * * * * * * * \n",
      "      * * * * * \n",
      "        * * * \n",
      "          * \n"
     ]
    }
   ],
   "source": [
    "n = 5\n",
    "for i in range(n):\n",
    "    for j in range(i+1):\n",
    "        print(\" \", end=\" \")\n",
    "    for j in range(i, n):\n",
    "        print(\"*\", end=\" \")\n",
    "    for j in range(i, n-1):\n",
    "        print(\"*\", end=\" \")\n",
    "    print()"
   ]
  },
  {
   "cell_type": "code",
   "execution_count": 21,
   "id": "a90bf1e7",
   "metadata": {},
   "outputs": [
    {
     "name": "stdout",
     "output_type": "stream",
     "text": [
      "1 \n",
      "2 2 \n",
      "3 3 3 \n",
      "4 4 4 4 \n",
      "5 5 5 5 5 \n"
     ]
    }
   ],
   "source": [
    "n = 5\n",
    "for i in range(n):\n",
    "    for j in range(i+1):\n",
    "        print(i+1, end=\" \")\n",
    "    print()"
   ]
  },
  {
   "cell_type": "code",
   "execution_count": 22,
   "id": "0a89d3c5",
   "metadata": {},
   "outputs": [
    {
     "name": "stdout",
     "output_type": "stream",
     "text": [
      "1 \n",
      "2 3 \n",
      "4 5 6 \n",
      "7 8 9 10 \n",
      "11 12 13 14 15 \n"
     ]
    }
   ],
   "source": [
    "n = 5\n",
    "sum = 1\n",
    "for i in range(n):\n",
    "    for j in range(i+1):\n",
    "        print(sum, end=\" \")\n",
    "        sum += 1\n",
    "    print()"
   ]
  },
  {
   "cell_type": "code",
   "execution_count": 49,
   "id": "da137bed",
   "metadata": {},
   "outputs": [
    {
     "name": "stdout",
     "output_type": "stream",
     "text": [
      "                              01  \n",
      "                            01  01  \n",
      "                          01  02  01  \n",
      "                        01  03  03  01  \n",
      "                      01  04  06  04  01  \n",
      "                    01  05  10  10  05  01  \n",
      "                  01  06  15  20  15  06  01  \n",
      "                01  07  21  35  35  21  07  01  \n",
      "              01  08  28  56  70  56  28  08  01  \n",
      "            01  09  36  84  126  126  84  36  09  01  \n",
      "          01  10  45  120  210  252  210  120  45  10  01  \n",
      "        01  11  55  165  330  462  462  330  165  55  11  01  \n",
      "      01  12  66  220  495  792  924  792  495  220  66  12  01  \n",
      "    01  13  78  286  715  1287  1716  1716  1287  715  286  78  13  01  \n",
      "  01  14  91  364  1001  2002  3003  3432  3003  2002  1001  364  91  14  01  \n"
     ]
    }
   ],
   "source": [
    "n = 15\n",
    "for i in range(n):\n",
    "    for j in range(i, n):\n",
    "        print(\" \", end=\" \")\n",
    "    num = 1\n",
    "    for j in range(i+1):\n",
    "        if len(str(num)) == 1:\n",
    "            print(\"0\" + str(num), end=\"  \")\n",
    "        else:\n",
    "            print(num, end=\"  \")\n",
    "        num = num * (i-j)//(j+1)\n",
    "    print()"
   ]
  },
  {
   "cell_type": "code",
   "execution_count": 43,
   "id": "06b8cced",
   "metadata": {},
   "outputs": [
    {
     "name": "stdout",
     "output_type": "stream",
     "text": [
      "          * \n",
      "        * * * \n",
      "      * * * * * \n",
      "    * * * * * * * \n",
      "  * * * * * * * * * \n",
      "    * * * * * * * \n",
      "      * * * * * \n",
      "        * * * \n",
      "          * \n"
     ]
    }
   ],
   "source": [
    "n = 5\n",
    "for i in range(n):\n",
    "    for j in range(i, n):\n",
    "        print(\" \", end=\" \")\n",
    "    for j in range(i+1):\n",
    "        print(\"*\", end=\" \")\n",
    "    for j in range(i):\n",
    "        print(\"*\", end=\" \")\n",
    "    print()\n",
    "for i in range(n-1):\n",
    "    for j in range(i+2):\n",
    "        print(\" \", end=\" \")\n",
    "    for j in range(i, n-1):\n",
    "        print(\"*\", end=\" \")\n",
    "    for j in range(i, n-2):\n",
    "        print(\"*\", end=\" \")\n",
    "    print()"
   ]
  },
  {
   "cell_type": "code",
   "execution_count": 66,
   "id": "7f6652fa",
   "metadata": {},
   "outputs": [
    {
     "name": "stdout",
     "output_type": "stream",
     "text": [
      "# # # # # \n",
      "#       # \n",
      "#       # \n",
      "#       # \n",
      "# # # # # \n"
     ]
    }
   ],
   "source": [
    "n = 5\n",
    "for i in range(n):\n",
    "    for j in range(n):\n",
    "        if i == 0 or i == n-1 or j == 0 or j == n-1:\n",
    "            print(\"#\", end=\" \")\n",
    "        else:\n",
    "            print(\" \", end=\" \")\n",
    "    print()"
   ]
  },
  {
   "cell_type": "code",
   "execution_count": 70,
   "id": "3dcb2187",
   "metadata": {},
   "outputs": [
    {
     "name": "stdout",
     "output_type": "stream",
     "text": [
      "X 0 X 0 X 0 X \n",
      "0 X 0 X 0 X 0 \n",
      "X 0 X 0 X 0 X \n",
      "0 X 0 X 0 X 0 \n",
      "X 0 X 0 X 0 X \n",
      "0 X 0 X 0 X 0 \n",
      "X 0 X 0 X 0 X \n"
     ]
    }
   ],
   "source": [
    "n = 8\n",
    "for i in range(1, n):\n",
    "    for j in range(1, n):\n",
    "        if (i+j)%2==0:\n",
    "            print(\"X\", end=\" \")\n",
    "        else:\n",
    "            print(\"0\", end=\" \")\n",
    "    print()"
   ]
  },
  {
   "cell_type": "code",
   "execution_count": 92,
   "id": "463e934a",
   "metadata": {},
   "outputs": [
    {
     "name": "stdout",
     "output_type": "stream",
     "text": [
      "  01  02  03  04  05  \n",
      "    06  07  08  09  \n",
      "      10  11  12  \n",
      "        13  14  \n",
      "          15  \n",
      "        16  17  \n",
      "      18  19  20  \n",
      "    21  22  23  24  \n",
      "  25  26  27  28  29  \n"
     ]
    }
   ],
   "source": [
    "n = 5\n",
    "num = 1\n",
    "for i in range(n):\n",
    "    for j in range(i+1):\n",
    "        print(\" \", end=\" \")\n",
    "    for j in range(i, n):\n",
    "        if len(str(num)) == 1:\n",
    "            print(\"0\" + str(num), end=\"  \")\n",
    "        else:\n",
    "            print(num, end=\"  \")\n",
    "        num += 1\n",
    "    print()\n",
    "for i in range(n-1):\n",
    "    for j in range(i, n-1):\n",
    "        print(\" \", end=\" \")\n",
    "    for j in range(i+2):\n",
    "        print(num, end=\"  \")\n",
    "        num += 1\n",
    "    print()"
   ]
  },
  {
   "cell_type": "code",
   "execution_count": 96,
   "id": "ac48eaec",
   "metadata": {},
   "outputs": [
    {
     "name": "stdout",
     "output_type": "stream",
     "text": [
      "Given string JAGAGAJ is a Palindrom\n"
     ]
    }
   ],
   "source": [
    "string = \"JAGAGAJ\"\n",
    "if string == string[::-1]:\n",
    "    print(f\"Given string {string} is a Palindrom\")\n",
    "else:\n",
    "    print(f\"Given string {string} is not a Palindrome\")"
   ]
  },
  {
   "cell_type": "code",
   "execution_count": 99,
   "id": "de63031f",
   "metadata": {},
   "outputs": [
    {
     "name": "stdout",
     "output_type": "stream",
     "text": [
      "hsedagaJ ijnamaP"
     ]
    }
   ],
   "source": [
    "string = \"Pamanji Jagadesh\"\n",
    "for i in range(1, len(string)+1):\n",
    "    print(string[-i], end=\"\")"
   ]
  }
 ],
 "metadata": {
  "kernelspec": {
   "display_name": "venv",
   "language": "python",
   "name": "python3"
  },
  "language_info": {
   "codemirror_mode": {
    "name": "ipython",
    "version": 3
   },
   "file_extension": ".py",
   "mimetype": "text/x-python",
   "name": "python",
   "nbconvert_exporter": "python",
   "pygments_lexer": "ipython3",
   "version": "3.10.11"
  }
 },
 "nbformat": 4,
 "nbformat_minor": 5
}
